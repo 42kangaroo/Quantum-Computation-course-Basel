{
 "cells": [
  {
   "cell_type": "markdown",
   "id": "9ae539e2",
   "metadata": {},
   "source": [
    "# Exercise 3"
   ]
  },
  {
   "cell_type": "markdown",
   "id": "fe84364c",
   "metadata": {},
   "source": [
    "## 1. Mutually unbiased bases\n",
    "Show that the $X$, $Y$ and $Z$ bases are all unbiased with respect to each other: each\n",
    "state for one basis results in a completely random result for the other two bases."
   ]
  },
  {
   "cell_type": "markdown",
   "id": "7e5f84c8",
   "metadata": {},
   "source": [
    "## 2. Shifting certainty\n",
    "\n",
    "The state of a single qubit is characterized by three numbers, $\\langle \\sigma^x \\rangle$, $\\langle \\sigma^y \\rangle$ and $\\langle \\sigma^z \\rangle$,\n",
    "defined as\n",
    "\n",
    "$$\n",
    "\\langle \\sigma^\\alpha \\rangle = p^\\alpha_0 - p^\\alpha_1,\n",
    "$$\n",
    "\n",
    "where $p^z_0$ is the probability of the outcome \\texttt{0} for a $Z$ measurement, and so on.\n",
    "\n",
    "For any single qubit superposition $|\\psi\\rangle = c_0 |0\\rangle + c_1 |1\\rangle$,\n",
    "\n",
    "$\n",
    "\\langle \\sigma^x \\rangle^2 + \\langle \\sigma^y \\rangle^2 + c^2 = 1\n",
    "$\n",
    "\n",
    "Verify this for the following states.\n",
    "\n",
    "* (a) $|\\psi\\rangle = \\cos \\theta \\, |0\\rangle + \\sin \\theta \\, |1\\rangle$\n",
    "* (b) $|\\psi\\rangle = \\frac{1}{\\sqrt{2}} \\, \\left( |0\\rangle \\,+\\, e^{i \\phi} |1\\rangle \\right)$\n",
    "\n",
    "## 3. A useful matrix\n",
    "\n",
    "Find the $2\\times2$ matrix $M$ such that\n",
    "\n",
    "$$\n",
    "p^z_0 - p^z_1 = \\langle \\psi | M | \\psi \\rangle \\,\\,\\, \\forall |\\psi\\rangle\n",
    "$$"
   ]
  },
  {
   "cell_type": "code",
   "execution_count": null,
   "id": "ac918ed2",
   "metadata": {},
   "outputs": [],
   "source": []
  }
 ],
 "metadata": {
  "kernelspec": {
   "display_name": "Python 3",
   "language": "python",
   "name": "python3"
  },
  "language_info": {
   "codemirror_mode": {
    "name": "ipython",
    "version": 3
   },
   "file_extension": ".py",
   "mimetype": "text/x-python",
   "name": "python",
   "nbconvert_exporter": "python",
   "pygments_lexer": "ipython3",
   "version": "3.9.1"
  }
 },
 "nbformat": 4,
 "nbformat_minor": 5
}
