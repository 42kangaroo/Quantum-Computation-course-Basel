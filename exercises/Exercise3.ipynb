{
 "cells": [
  {
   "cell_type": "markdown",
   "metadata": {},
   "source": [
    "# Exercise 3\n",
    "\n",
    "This sheet is about [density matrices](../QI_course/2_The_Qubit.pdf), [the partial trace](../QI_course/3_Quantum_Information.pdf) and [the Schmidt decomposition](../QI_course/6_Quantum_Correlations_part_1.pdf). Take a look at the linked materials to find out more."
   ]
  },
  {
   "cell_type": "markdown",
   "metadata": {},
   "source": [
    "## 1\n",
    "\n",
    "Given an abitrary single qubit state $a|0\\rangle +b|1\\rangle$:\n",
    "\n",
    "(a) Write down the correponding density matrix.\n",
    "\n",
    "(b) Write down the density matrix representing the effect of applying an $X$ with probability $q_x$, $Y$ with probability $q_y$ and $Z$ with probability $q_z$.\n",
    "\n",
    "(c) Write down the density matrix for representing the effect of replacing the state with $I/2$ with probability $p$.\n",
    "\n",
    "(d) For what values of $q_x$, $q_y$ and $q_z$ is the effect of (b) equivalent to that of (c)?\n",
    "\n",
    "## 2\n",
    "\n",
    "(a) Write down the density matrix of a single qubit which is in state $|0\\rangle$ with probability $2/3$ and $|+\\rangle$ with probability $1/3$.\n",
    "\n",
    "(b) Find a two qubit state such that one of the reduced density matrices is equal to the density matrix in (a).\n",
    "\n",
    "(c) Write down a density matrix for a state that is not entangled, but which has the same reduced density matrices as your answer for (b).\n",
    "\n",
    "## 3\n",
    "\n",
    "Consider the three qubit state $(|001\\rangle + |010\\rangle)+ |100\\rangle/\\sqrt{3}$.\n",
    "\n",
    "(a) What is the reduced density matrix for a single qubit in this state?\n",
    "\n",
    "(b) What is the reduced density matrix for a pair of qubits in this state?\n",
    "\n",
    "(c) Use the Schmidt decomposition to rewrite the state, with one qubit on one side of the bipartition and two qubits on the other."
   ]
  },
  {
   "cell_type": "markdown",
   "metadata": {},
   "source": []
  }
 ],
 "metadata": {
  "kernelspec": {
   "display_name": "Python 3",
   "language": "python",
   "name": "python3"
  },
  "language_info": {
   "codemirror_mode": {
    "name": "ipython",
    "version": 3
   },
   "file_extension": ".py",
   "mimetype": "text/x-python",
   "name": "python",
   "nbconvert_exporter": "python",
   "pygments_lexer": "ipython3",
   "version": "3.9.1"
  }
 },
 "nbformat": 4,
 "nbformat_minor": 4
}
